{
  "nbformat": 4,
  "nbformat_minor": 0,
  "metadata": {
    "colab": {
      "provenance": []
    },
    "kernelspec": {
      "name": "python3",
      "display_name": "Python 3"
    },
    "language_info": {
      "name": "python"
    },
    "accelerator": "GPU",
    "gpuClass": "standard"
  },
  "cells": [
    {
      "cell_type": "code",
      "source": [
        "# mount drive\n",
        "from google.colab import drive\n",
        "drive.mount('/content/gdrive/', force_remount=True)"
      ],
      "metadata": {
        "id": "loU--Qwe0J92"
      },
      "execution_count": null,
      "outputs": []
    },
    {
      "cell_type": "code",
      "source": [
        "import numpy as np\n",
        "import pandas as pd\n",
        "import matplotlib.pyplot as plt\n",
        "import cv2\n",
        "import os\n",
        "print(cv2.__version__)\n",
        "# import pytesseract\n",
        "import random\n",
        "import shutil\n",
        "import math\n",
        "from glob import glob\n",
        "from PIL import Image, ImageOps, ImageFilter, ImageDraw\n",
        "import pickle"
      ],
      "metadata": {
        "colab": {
          "base_uri": "https://localhost:8080/"
        },
        "id": "bfDIKojmCzeh",
        "outputId": "93efed6b-2d8a-4da2-e8c3-828cf45d5bdf"
      },
      "execution_count": null,
      "outputs": [
        {
          "output_type": "stream",
          "name": "stdout",
          "text": [
            "4.6.0\n"
          ]
        }
      ]
    },
    {
      "cell_type": "code",
      "source": [
        "# No need of this variable here, in this notebook\n",
        "scanned_data = glob('gdrive/MyDrive/Figure Layout and Classification Independent Study/data/LocalizationData/binaries_model12_tfrecordz_train.pickle')\n",
        "scanned_data[:3]"
      ],
      "metadata": {
        "colab": {
          "base_uri": "https://localhost:8080/"
        },
        "id": "gQF0HrjqonOW",
        "outputId": "7e9372ca-f622-4d48-fbd9-deb95bdf3dc5"
      },
      "execution_count": null,
      "outputs": [
        {
          "output_type": "execute_result",
          "data": {
            "text/plain": [
              "['gdrive/MyDrive/Figure Layout and Classification Independent Study/data/LocalizationData/binaries_model12_tfrecordz_train.pickle']"
            ]
          },
          "metadata": {},
          "execution_count": 3
        }
      ]
    },
    {
      "cell_type": "code",
      "source": [
        "# No need of this variable here, in this notebook\n",
        "img_files_rgb = glob('gdrive/MyDrive/Figure Layout and Classification Independent Study/Shantanu/Colorful_Images_Data_New/*')\n",
        "img_files_rgb[:3]"
      ],
      "metadata": {
        "id": "O4R3_zdPonwo",
        "colab": {
          "base_uri": "https://localhost:8080/"
        },
        "outputId": "3adddbfc-2e4d-4704-9640-539f96ec569b"
      },
      "execution_count": null,
      "outputs": [
        {
          "output_type": "execute_result",
          "data": {
            "text/plain": [
              "['gdrive/MyDrive/Figure Layout and Classification Independent Study/Shantanu/Colorful_Images_Data_New/1976ApJ___207L_181B_p5_d2.jpeg',\n",
              " 'gdrive/MyDrive/Figure Layout and Classification Independent Study/Shantanu/Colorful_Images_Data_New/1991AJ____101_1720D_p8_d2.jpeg',\n",
              " 'gdrive/MyDrive/Figure Layout and Classification Independent Study/Shantanu/Colorful_Images_Data_New/1992ApJ___400___41K_p3_d2.jpeg']"
            ]
          },
          "metadata": {},
          "execution_count": 4
        }
      ]
    },
    {
      "cell_type": "code",
      "source": [
        "len(img_files_rgb)"
      ],
      "metadata": {
        "id": "XDjHcLt8on3c",
        "colab": {
          "base_uri": "https://localhost:8080/"
        },
        "outputId": "accd4f10-a5fa-4c88-bc95-be769d385b81"
      },
      "execution_count": null,
      "outputs": [
        {
          "output_type": "execute_result",
          "data": {
            "text/plain": [
              "6341"
            ]
          },
          "metadata": {},
          "execution_count": 5
        }
      ]
    },
    {
      "cell_type": "markdown",
      "source": [
        "# Moving 'good' and 'bad' Files from 'new_good_file_list_0.9_iou.txt' to the following Folders:\n",
        "\n",
        "# 1. 'Colorful_Images_Data_New/colorful_data_large/train/good/'\n",
        "# 2. 'Colorful_Images_Data_New/colorful_data_large/valid/good/'\n",
        "# 3. 'Colorful_Images_Data_New/colorful_data_large/test/good/"
      ],
      "metadata": {
        "id": "NivdqPkS2Iq6"
      }
    },
    {
      "cell_type": "code",
      "source": [
        "# Source Folder:\n",
        "good_src = 'gdrive/MyDrive/Figure Layout and Classification Independent Study/Shantanu/new2_good_file_list_0.9_iou.txt'\n",
        "with open(good_src,'r') as f:\n",
        "    goods = f.readlines()"
      ],
      "metadata": {
        "id": "yOQAq9f5on-D"
      },
      "execution_count": null,
      "outputs": []
    },
    {
      "cell_type": "code",
      "source": [
        "goods[:3]"
      ],
      "metadata": {
        "id": "VjUwVpr5ooFK",
        "colab": {
          "base_uri": "https://localhost:8080/"
        },
        "outputId": "45df04f9-c14b-49c6-e82d-120ab4f1b412"
      },
      "execution_count": null,
      "outputs": [
        {
          "output_type": "execute_result",
          "data": {
            "text/plain": [
              "['gdrive/MyDrive/Figure Layout and Classification Independent Study/Shantanu/Colorful_Images_Data_New/1988AJ_____95_1185C_p12_d2.jpeg\\n',\n",
              " 'gdrive/MyDrive/Figure Layout and Classification Independent Study/Shantanu/Colorful_Images_Data_New/1995ApJ___453__100E_p33_d2.jpeg\\n',\n",
              " 'gdrive/MyDrive/Figure Layout and Classification Independent Study/Shantanu/Colorful_Images_Data_New/1989ApJ___336____9W_p5_d2.jpeg\\n']"
            ]
          },
          "metadata": {},
          "execution_count": 7
        }
      ]
    },
    {
      "cell_type": "code",
      "source": [
        "len(goods)"
      ],
      "metadata": {
        "colab": {
          "base_uri": "https://localhost:8080/"
        },
        "id": "3mfuaReCFyTa",
        "outputId": "b2ec3c5d-8a6c-4aa6-f2b9-f901e42ae787"
      },
      "execution_count": null,
      "outputs": [
        {
          "output_type": "execute_result",
          "data": {
            "text/plain": [
              "4146"
            ]
          },
          "metadata": {},
          "execution_count": 8
        }
      ]
    },
    {
      "cell_type": "code",
      "source": [
        "type(goods)"
      ],
      "metadata": {
        "colab": {
          "base_uri": "https://localhost:8080/"
        },
        "id": "YbLHY1Rvlwsz",
        "outputId": "484fa223-453e-439b-a6f0-6f7a6f06b27f"
      },
      "execution_count": null,
      "outputs": [
        {
          "output_type": "execute_result",
          "data": {
            "text/plain": [
              "list"
            ]
          },
          "metadata": {},
          "execution_count": 9
        }
      ]
    },
    {
      "cell_type": "code",
      "source": [
        "# for i in goods:\n",
        "#     i = i.rstrip('\\n')\n",
        "#     print(i)"
      ],
      "metadata": {
        "id": "7XeAPJlzchzJ"
      },
      "execution_count": null,
      "outputs": []
    },
    {
      "cell_type": "code",
      "source": [
        "# for i in goods:\n",
        "#     i = i.rstrip('\\n').split('/')[-1]\n",
        "#     print(i)"
      ],
      "metadata": {
        "id": "b84KVg6vch6M"
      },
      "execution_count": null,
      "outputs": []
    },
    {
      "cell_type": "code",
      "source": [
        "# 70% of 1823 = 1276.1      # 70% of 1823 = 2092.2,\n",
        "# 20% of 1823 = 364.6       # 20% of 1823 = 829.2\n",
        "# 10% of 1823 = 182.3       # 10% of 1823 = 414.6\n",
        "\n",
        "# tr = 0.1\n",
        "# per_of_files = round(tr * len(goods))\n",
        "# per_of_files\n",
        "\n",
        "# total = 1276 + 365 + 182\n",
        "# print(total) --> 1823"
      ],
      "metadata": {
        "id": "yLFyVj_Pcojd"
      },
      "execution_count": null,
      "outputs": []
    },
    {
      "cell_type": "code",
      "source": [
        "# Data Split: training 70%, validation 20%, and testing data 10%\n",
        "train = 0.7\n",
        "valid = 0.2\n",
        "test = 0.1"
      ],
      "metadata": {
        "id": "mvbWjWm1b8Hm"
      },
      "execution_count": null,
      "outputs": []
    },
    {
      "cell_type": "code",
      "source": [
        "# Destination Folder:\n",
        "# good_dir = 'gdrive/MyDrive/Figure Layout and Classification Independent Study/Shantanu/Colorful_Images_Data_New/colorful_data_large/train/good/'"
      ],
      "metadata": {
        "id": "d0Q2G6-Qa5Zl"
      },
      "execution_count": null,
      "outputs": []
    },
    {
      "cell_type": "markdown",
      "source": [
        "---"
      ],
      "metadata": {
        "id": "TOMwU4nj5Gtg"
      }
    },
    {
      "cell_type": "markdown",
      "source": [
        "# Trying again with gin and gout logic:\n",
        "# Good File List"
      ],
      "metadata": {
        "id": "1CC-UYRe5CKU"
      }
    },
    {
      "cell_type": "code",
      "source": [
        "# Source Good File Path:\n",
        "src_path = 'gdrive/MyDrive/Figure Layout and Classification Independent Study/Shantanu/new2_good_file_list_0.9_iou.txt'\n",
        "with open(src_path,'r') as f:\n",
        "    src_i = f.readlines()\n",
        "\n",
        "src_i = np.array(src_i)\n",
        "np.random.seed(42)\n",
        "np.random.shuffle(src_i)\n",
        "\n",
        "# sampling without replacement\n",
        "# downsample it\n",
        "# Make a new directory structure\n",
        "# src_i.random_sample()\n",
        "# src_i.random.choice()"
      ],
      "metadata": {
        "id": "n0T3LWCWkFje"
      },
      "execution_count": null,
      "outputs": []
    },
    {
      "cell_type": "code",
      "source": [
        "src_i[:3]"
      ],
      "metadata": {
        "colab": {
          "base_uri": "https://localhost:8080/"
        },
        "id": "egcJWtdG4575",
        "outputId": "86012ed2-8d10-40fb-b1c1-9b846c42edda"
      },
      "execution_count": null,
      "outputs": [
        {
          "output_type": "execute_result",
          "data": {
            "text/plain": [
              "array(['gdrive/MyDrive/Figure Layout and Classification Independent Study/Shantanu/Colorful_Images_Data_New/1994AJ____107_1320O_p7_d2.jpeg\\n',\n",
              "       'gdrive/MyDrive/Figure Layout and Classification Independent Study/Shantanu/Colorful_Images_Data_New/1996ApJ___466_1087P_p13_d2.jpeg\\n',\n",
              "       'gdrive/MyDrive/Figure Layout and Classification Independent Study/Shantanu/Colorful_Images_Data_New/1996ApJ___464__272L_p3_d2.jpeg\\n'],\n",
              "      dtype='<U133')"
            ]
          },
          "metadata": {},
          "execution_count": 12
        }
      ]
    },
    {
      "cell_type": "code",
      "source": [
        "print(len(src_i))"
      ],
      "metadata": {
        "colab": {
          "base_uri": "https://localhost:8080/"
        },
        "id": "zoR2Cvuu5JsE",
        "outputId": "5bea2a20-6651-4198-dcdd-38dc2efdfd39"
      },
      "execution_count": null,
      "outputs": [
        {
          "output_type": "stream",
          "name": "stdout",
          "text": [
            "4146\n"
          ]
        }
      ]
    },
    {
      "cell_type": "code",
      "source": [
        "type(src_i)"
      ],
      "metadata": {
        "colab": {
          "base_uri": "https://localhost:8080/"
        },
        "id": "GFNf_XUtSxRU",
        "outputId": "5b978d00-2971-417f-ff76-27798431cc2b"
      },
      "execution_count": null,
      "outputs": [
        {
          "output_type": "execute_result",
          "data": {
            "text/plain": [
              "numpy.ndarray"
            ]
          },
          "metadata": {},
          "execution_count": 14
        }
      ]
    },
    {
      "cell_type": "code",
      "source": [
        "# Destination Good File Path:\n",
        "dst_path = \"gdrive/MyDrive/Figure Layout and Classification Independent Study/Shantanu/Colorful_Images_Data_New/colorful_data_large/train/good/\""
      ],
      "metadata": {
        "id": "dj2PngrpkFc2"
      },
      "execution_count": null,
      "outputs": []
    },
    {
      "cell_type": "code",
      "source": [
        "files = glob(src_path)\n",
        "print(files)\n",
        "# Calculating number of files to send to the Train folder\n",
        "no_of_files = round(train * len(src_i))\n",
        "print(no_of_files)"
      ],
      "metadata": {
        "colab": {
          "base_uri": "https://localhost:8080/"
        },
        "id": "yni7D2Ok5ayZ",
        "outputId": "92fb4ed4-9b07-4252-bbdf-9026bdba0a10"
      },
      "execution_count": null,
      "outputs": [
        {
          "output_type": "stream",
          "name": "stdout",
          "text": [
            "['gdrive/MyDrive/Figure Layout and Classification Independent Study/Shantanu/new2_good_file_list_0.9_iou.txt']\n",
            "2902\n"
          ]
        }
      ]
    },
    {
      "cell_type": "markdown",
      "source": [
        "# For Good Train Data:"
      ],
      "metadata": {
        "id": "bXW7RQzbMLz6"
      }
    },
    {
      "cell_type": "code",
      "source": [
        "# Simply continue in the loop if the number is 50:\n",
        "# for i in range(100):\n",
        "#     if i == 50:\n",
        "#         continue\n",
        "#     print(i)\n",
        "new_lst = []\n",
        "\n",
        "for file_name in src_i[:no_of_files]:\n",
        "    if file_name == '1978AJ_____83____1K_p3_d2.jpeg':\n",
        "        continue\n",
        "    new_lst.append(file_name)"
      ],
      "metadata": {
        "id": "HEEESFezpOpn"
      },
      "execution_count": null,
      "outputs": []
    },
    {
      "cell_type": "code",
      "source": [
        "print(len(new_lst))"
      ],
      "metadata": {
        "colab": {
          "base_uri": "https://localhost:8080/"
        },
        "id": "Keqy9AyAvbNS",
        "outputId": "c07fbd69-250c-44af-fe7a-8f66357b6790"
      },
      "execution_count": null,
      "outputs": [
        {
          "output_type": "stream",
          "name": "stdout",
          "text": [
            "2902\n"
          ]
        }
      ]
    },
    {
      "cell_type": "code",
      "source": [
        "# Image not found: '1978AJ_____83____1K_p3_d2.jpeg'\n",
        "for file_name in src_i[:no_of_files]:\n",
        "    file_name = file_name.rstrip('\\n') # gin\n",
        "    gout = dst_path + file_name.rstrip('\\n').split('/')[-1] # gout\n",
        "    # print(file_name, gout)\n",
        "    try:\n",
        "        shutil.copyfile(file_name, gout)\n",
        "    except:\n",
        "        print(file_name)"
      ],
      "metadata": {
        "id": "ULvRt00k3vPJ",
        "colab": {
          "base_uri": "https://localhost:8080/"
        },
        "outputId": "e159e2ab-3fdd-4ef7-85fb-79f8ee2f953f"
      },
      "execution_count": null,
      "outputs": [
        {
          "output_type": "stream",
          "name": "stdout",
          "text": [
            "gdrive/MyDrive/Figure Layout and Classification Independent Study/Shantanu/Colorful_Images_Data_New/1978AJ_____83____1K_p3_d2.jpeg\n",
            "gdrive/MyDrive/Figure Layout and Classification Independent Study/Shantanu/Colorful_Images_Data_New/1995ApJ___449L__59B_p7_d2.jpeg\n",
            "gdrive/MyDrive/Figure Layout and Classification Independent Study/Shantanu/Colorful_Images_Data_New/1978AJ_____83_1619C_p5_d2.jpeg\n"
          ]
        }
      ]
    },
    {
      "cell_type": "code",
      "source": [
        "import fnmatch\n",
        "count = len(fnmatch.filter(os.listdir(dst_path), '*.*'))\n",
        "print('File Count:', count)"
      ],
      "metadata": {
        "id": "tRwOCFSgfSlH",
        "colab": {
          "base_uri": "https://localhost:8080/"
        },
        "outputId": "989fb26b-6c1d-43b6-fc14-551a4bfba002"
      },
      "execution_count": null,
      "outputs": [
        {
          "output_type": "stream",
          "name": "stdout",
          "text": [
            "File Count: 2899\n"
          ]
        }
      ]
    },
    {
      "cell_type": "markdown",
      "source": [
        "# Now for Good Valid Data:"
      ],
      "metadata": {
        "id": "w8PM5JzU4-y5"
      }
    },
    {
      "cell_type": "code",
      "source": [
        "valid"
      ],
      "metadata": {
        "id": "XxVnelt23vcL",
        "colab": {
          "base_uri": "https://localhost:8080/"
        },
        "outputId": "9de71633-4dce-431f-97c1-a67849b441dc"
      },
      "execution_count": null,
      "outputs": [
        {
          "output_type": "execute_result",
          "data": {
            "text/plain": [
              "0.2"
            ]
          },
          "metadata": {},
          "execution_count": 19
        }
      ]
    },
    {
      "cell_type": "code",
      "source": [
        "no_of_files_valid = round(valid * len(src_i))\n",
        "print(no_of_files_valid)"
      ],
      "metadata": {
        "id": "BYoDiuWB3viq",
        "colab": {
          "base_uri": "https://localhost:8080/"
        },
        "outputId": "e7b3bfd2-8652-487c-c75c-1ef6ccba0f0d"
      },
      "execution_count": null,
      "outputs": [
        {
          "output_type": "stream",
          "name": "stdout",
          "text": [
            "829\n"
          ]
        }
      ]
    },
    {
      "cell_type": "code",
      "source": [
        "# Validation Destination Good Path:\n",
        "val_dst_path = \"gdrive/MyDrive/Figure Layout and Classification Independent Study/Shantanu/Colorful_Images_Data_New/colorful_data_large/valid/good/\""
      ],
      "metadata": {
        "id": "ufbR0bkx3vos"
      },
      "execution_count": null,
      "outputs": []
    },
    {
      "cell_type": "code",
      "source": [
        "# src_i[no_of_files:no_of_files + no_of_files_valid]"
      ],
      "metadata": {
        "id": "k2q1UhOzovhV"
      },
      "execution_count": null,
      "outputs": []
    },
    {
      "cell_type": "code",
      "source": [
        "for file_name in src_i[no_of_files:no_of_files + no_of_files_valid]:\n",
        "    file_name = file_name.rstrip('\\n') # gin\n",
        "    gout = val_dst_path + file_name.rstrip('\\n').split('/')[-1] # gout\n",
        "    # print(file_name, gout)\n",
        "    shutil.copyfile(file_name, gout)"
      ],
      "metadata": {
        "id": "UN7WDaUP3vum"
      },
      "execution_count": null,
      "outputs": []
    },
    {
      "cell_type": "code",
      "source": [
        "import fnmatch\n",
        "count = len(fnmatch.filter(os.listdir(val_dst_path), '*.*'))\n",
        "print('File Count:', count)"
      ],
      "metadata": {
        "colab": {
          "base_uri": "https://localhost:8080/"
        },
        "id": "Ox1C-CgNhBqe",
        "outputId": "b629b8c5-f73c-4dc5-e5e8-311a589d01e9"
      },
      "execution_count": null,
      "outputs": [
        {
          "output_type": "stream",
          "name": "stdout",
          "text": [
            "File Count: 829\n"
          ]
        }
      ]
    },
    {
      "cell_type": "markdown",
      "source": [
        "# Now For Good Test Data:"
      ],
      "metadata": {
        "id": "kHHS4tpH5COo"
      }
    },
    {
      "cell_type": "code",
      "source": [
        "test"
      ],
      "metadata": {
        "colab": {
          "base_uri": "https://localhost:8080/"
        },
        "id": "vsz79lNb50tY",
        "outputId": "5eaa5bf1-ba99-4584-c7fd-be9c8ebd3c8f"
      },
      "execution_count": null,
      "outputs": [
        {
          "output_type": "execute_result",
          "data": {
            "text/plain": [
              "0.1"
            ]
          },
          "metadata": {},
          "execution_count": 25
        }
      ]
    },
    {
      "cell_type": "code",
      "source": [
        "no_of_files_test = round(test * len(src_i))\n",
        "print(no_of_files_test)"
      ],
      "metadata": {
        "colab": {
          "base_uri": "https://localhost:8080/"
        },
        "id": "eznBS-qQ50K9",
        "outputId": "cae6815a-32c3-48c4-bafe-e408a09631d4"
      },
      "execution_count": null,
      "outputs": [
        {
          "output_type": "stream",
          "name": "stdout",
          "text": [
            "415\n"
          ]
        }
      ]
    },
    {
      "cell_type": "code",
      "source": [
        "# Test Destination Good Path:\n",
        "test_dst_path = \"gdrive/MyDrive/Figure Layout and Classification Independent Study/Shantanu/Colorful_Images_Data_New/colorful_data_large/test/good/\""
      ],
      "metadata": {
        "id": "a5mksIlia4Ow"
      },
      "execution_count": null,
      "outputs": []
    },
    {
      "cell_type": "code",
      "source": [
        "for file_name in src_i[no_of_files + no_of_files_valid:]:\n",
        "    file_name = file_name.rstrip('\\n') # gin\n",
        "    gout = test_dst_path + file_name.rstrip('\\n').split('/')[-1] # gout\n",
        "    # print(file_name, gout)\n",
        "    try:\n",
        "        shutil.copyfile(file_name, gout)\n",
        "    except:\n",
        "        print(file_name)"
      ],
      "metadata": {
        "id": "gztVRUQta4Uz",
        "colab": {
          "base_uri": "https://localhost:8080/"
        },
        "outputId": "ff868202-42f6-4abf-eb53-159b987ef353"
      },
      "execution_count": null,
      "outputs": [
        {
          "output_type": "stream",
          "name": "stdout",
          "text": [
            "gdrive/MyDrive/Figure Layout and Classification Independent Study/Shantanu/Colorful_Images_Data_New/1978AJ_____83__845S_p5_d2.jpeg\n"
          ]
        }
      ]
    },
    {
      "cell_type": "code",
      "source": [
        "import fnmatch\n",
        "count = len(fnmatch.filter(os.listdir(test_dst_path), '*.*'))\n",
        "print('File Count:', count)"
      ],
      "metadata": {
        "colab": {
          "base_uri": "https://localhost:8080/"
        },
        "id": "DQGfCAObhWVn",
        "outputId": "bef76c89-b27b-43d3-faa5-01693372b95a"
      },
      "execution_count": null,
      "outputs": [
        {
          "output_type": "stream",
          "name": "stdout",
          "text": [
            "File Count: 414\n"
          ]
        }
      ]
    },
    {
      "cell_type": "markdown",
      "source": [
        "# Doing the Same for the Bad files list too:"
      ],
      "metadata": {
        "id": "zMihwwh5a4a3"
      }
    },
    {
      "cell_type": "code",
      "source": [
        "# Source Bad File Path:\n",
        "src_bad_path = 'gdrive/MyDrive/Figure Layout and Classification Independent Study/Shantanu/new2_bad_file_list_0.9_iou.txt'\n",
        "with open(src_bad_path,'r') as f:\n",
        "    src_bad_i = f.readlines()\n",
        "\n",
        "src_bad_i = np.array(src_bad_i)\n",
        "np.random.seed(42)\n",
        "np.random.shuffle(src_bad_i)"
      ],
      "metadata": {
        "id": "bAIMg8nfa4g6"
      },
      "execution_count": null,
      "outputs": []
    },
    {
      "cell_type": "code",
      "source": [
        "src_bad_i[:3]"
      ],
      "metadata": {
        "colab": {
          "base_uri": "https://localhost:8080/"
        },
        "id": "ZjKDVvEwa4m4",
        "outputId": "ca69550c-3b65-4b77-dc3b-bd3bbeec174d"
      },
      "execution_count": null,
      "outputs": [
        {
          "output_type": "execute_result",
          "data": {
            "text/plain": [
              "array(['gdrive/MyDrive/Figure Layout and Classification Independent Study/Shantanu/Colorful_Images_Data_New/1968ApJ___153__975C_p2_d2.jpeg\\n',\n",
              "       'gdrive/MyDrive/Figure Layout and Classification Independent Study/Shantanu/Colorful_Images_Data_New/1996ApJ___471___52M_p2_d2.jpeg\\n',\n",
              "       'gdrive/MyDrive/Figure Layout and Classification Independent Study/Shantanu/Colorful_Images_Data_New/1995AJ____110__522T_p4_d2.jpeg\\n'],\n",
              "      dtype='<U133')"
            ]
          },
          "metadata": {},
          "execution_count": 31
        }
      ]
    },
    {
      "cell_type": "code",
      "source": [
        "len(src_bad_i)"
      ],
      "metadata": {
        "colab": {
          "base_uri": "https://localhost:8080/"
        },
        "id": "o1AewKFDa4su",
        "outputId": "52d92721-b04c-4a6b-81bc-915a554744e8"
      },
      "execution_count": null,
      "outputs": [
        {
          "output_type": "execute_result",
          "data": {
            "text/plain": [
              "1650"
            ]
          },
          "metadata": {},
          "execution_count": 32
        }
      ]
    },
    {
      "cell_type": "code",
      "source": [
        "type(src_bad_i)"
      ],
      "metadata": {
        "id": "ipEn_ZO1ooMF",
        "colab": {
          "base_uri": "https://localhost:8080/"
        },
        "outputId": "da0e01f9-882b-463b-e793-36713328d325"
      },
      "execution_count": null,
      "outputs": [
        {
          "output_type": "execute_result",
          "data": {
            "text/plain": [
              "numpy.ndarray"
            ]
          },
          "metadata": {},
          "execution_count": 33
        }
      ]
    },
    {
      "cell_type": "markdown",
      "source": [
        "# For Bad Train Data:"
      ],
      "metadata": {
        "id": "twR2-Xkioo9g"
      }
    },
    {
      "cell_type": "code",
      "source": [
        "# Destination Bad File Path:\n",
        "dst_bad_path = \"gdrive/MyDrive/Figure Layout and Classification Independent Study/Shantanu/Colorful_Images_Data_New/colorful_data_large/train/bad/\""
      ],
      "metadata": {
        "id": "uDXi8fJIooSx"
      },
      "execution_count": null,
      "outputs": []
    },
    {
      "cell_type": "code",
      "source": [
        "# 70% of 659 = 461.3\n",
        "# Calculating number of files to send to the Train folder\n",
        "no_of_bad_files = round(train * len(src_bad_i))\n",
        "print(no_of_bad_files)"
      ],
      "metadata": {
        "id": "9Do-nin-ooZ9",
        "colab": {
          "base_uri": "https://localhost:8080/"
        },
        "outputId": "c14a71b0-ce28-4b91-90f8-48149c52fc5a"
      },
      "execution_count": null,
      "outputs": [
        {
          "output_type": "stream",
          "name": "stdout",
          "text": [
            "1155\n"
          ]
        }
      ]
    },
    {
      "cell_type": "code",
      "source": [
        "for file_name in src_bad_i[:no_of_bad_files]:\n",
        "    file_name = file_name.rstrip('\\n') # gin\n",
        "    gout = dst_bad_path + file_name.rstrip('\\n').split('/')[-1] # gout\n",
        "    # print(file_name, gout)\n",
        "    try:\n",
        "        shutil.copyfile(file_name, gout)\n",
        "    except:\n",
        "        print(file_name)"
      ],
      "metadata": {
        "id": "xsY1ZTaroonQ",
        "colab": {
          "base_uri": "https://localhost:8080/"
        },
        "outputId": "f1eb6c02-9136-4a31-cbf2-42c2a9792a13"
      },
      "execution_count": null,
      "outputs": [
        {
          "output_type": "stream",
          "name": "stdout",
          "text": [
            "gdrive/MyDrive/Figure Layout and Classification Independent Study/Shantanu/Colorful_Images_Data_New/1912ApJ____36___14S_p9_d2.jpeg\n"
          ]
        }
      ]
    },
    {
      "cell_type": "code",
      "source": [
        "import fnmatch\n",
        "count = len(fnmatch.filter(os.listdir(dst_bad_path), '*.*'))\n",
        "print('File Count:', count)"
      ],
      "metadata": {
        "colab": {
          "base_uri": "https://localhost:8080/"
        },
        "id": "8AYibqsjlS8R",
        "outputId": "f753477c-a2bf-4e2c-cc45-c366b19cae7b"
      },
      "execution_count": null,
      "outputs": [
        {
          "output_type": "stream",
          "name": "stdout",
          "text": [
            "File Count: 1154\n"
          ]
        }
      ]
    },
    {
      "cell_type": "markdown",
      "source": [
        "# Now for Bad Valid Data:"
      ],
      "metadata": {
        "id": "zTiSqIqdoouH"
      }
    },
    {
      "cell_type": "code",
      "source": [
        "# 20% of 659 = 131.8\n",
        "no_of_bad_files_valid = round(valid * len(src_bad_i))\n",
        "print(no_of_bad_files_valid)"
      ],
      "metadata": {
        "id": "aPMuDwcfoo1C",
        "colab": {
          "base_uri": "https://localhost:8080/"
        },
        "outputId": "f3f0d867-750e-47d9-be0f-b0eec801ba5d"
      },
      "execution_count": null,
      "outputs": [
        {
          "output_type": "stream",
          "name": "stdout",
          "text": [
            "330\n"
          ]
        }
      ]
    },
    {
      "cell_type": "code",
      "source": [
        "# Validation Destination Bad Path:\n",
        "val_bad_dst_path = \"gdrive/MyDrive/Figure Layout and Classification Independent Study/Shantanu/Colorful_Images_Data_New/colorful_data_large/valid/bad/\""
      ],
      "metadata": {
        "id": "qLiLCF9qoo70"
      },
      "execution_count": null,
      "outputs": []
    },
    {
      "cell_type": "code",
      "source": [
        "# src_bad_i[no_of_bad_files:no_of_bad_files + no_of_bad_files_valid]"
      ],
      "metadata": {
        "id": "G0aYZz6oopCt"
      },
      "execution_count": null,
      "outputs": []
    },
    {
      "cell_type": "code",
      "source": [
        "for file_name in src_bad_i[no_of_bad_files:no_of_bad_files + no_of_bad_files_valid]:\n",
        "    file_name = file_name.rstrip('\\n') # gin\n",
        "    gout = val_bad_dst_path + file_name.rstrip('\\n').split('/')[-1] # gout\n",
        "    # print(file_name, gout)\n",
        "    try:\n",
        "        shutil.copyfile(file_name, gout)\n",
        "    except:\n",
        "        print(file_name)"
      ],
      "metadata": {
        "id": "R3SHKSYYopJY"
      },
      "execution_count": null,
      "outputs": []
    },
    {
      "cell_type": "code",
      "source": [
        "import fnmatch\n",
        "count = len(fnmatch.filter(os.listdir(val_bad_dst_path), '*.*'))\n",
        "print('File Count:', count)"
      ],
      "metadata": {
        "colab": {
          "base_uri": "https://localhost:8080/"
        },
        "id": "AvhNlD4fnvOU",
        "outputId": "cdac8764-7c20-48af-9369-2f3e43e4306f"
      },
      "execution_count": null,
      "outputs": [
        {
          "output_type": "stream",
          "name": "stdout",
          "text": [
            "File Count: 330\n"
          ]
        }
      ]
    },
    {
      "cell_type": "markdown",
      "source": [
        "# Now for Bad Test Data:"
      ],
      "metadata": {
        "id": "HKdOxDq9opQQ"
      }
    },
    {
      "cell_type": "code",
      "source": [
        "# 10% of 659 = 65.9\n",
        "no_of_bad_files_test = round(test * len(src_bad_i))\n",
        "print(no_of_bad_files_test)"
      ],
      "metadata": {
        "id": "qaOQOu8DopXK",
        "colab": {
          "base_uri": "https://localhost:8080/"
        },
        "outputId": "1a5cadaf-74fc-4771-e658-da753f4296e8"
      },
      "execution_count": null,
      "outputs": [
        {
          "output_type": "stream",
          "name": "stdout",
          "text": [
            "165\n"
          ]
        }
      ]
    },
    {
      "cell_type": "code",
      "source": [
        "# Test Destination Bad Path:\n",
        "test_bad_dst_path = \"gdrive/MyDrive/Figure Layout and Classification Independent Study/Shantanu/Colorful_Images_Data_New/colorful_data_large/test/bad/\""
      ],
      "metadata": {
        "id": "EzIKJAYdopeD"
      },
      "execution_count": null,
      "outputs": []
    },
    {
      "cell_type": "code",
      "source": [
        "for file_name in src_bad_i[no_of_bad_files + no_of_bad_files_valid:]:\n",
        "    file_name = file_name.rstrip('\\n') # gin\n",
        "    gout = test_bad_dst_path + file_name.rstrip('\\n').split('/')[-1] # gout\n",
        "    # print(file_name, gout)\n",
        "    try:\n",
        "        shutil.copyfile(file_name, gout)\n",
        "    except:\n",
        "        print(file_name)"
      ],
      "metadata": {
        "id": "RSdIUSjpopk5"
      },
      "execution_count": null,
      "outputs": []
    },
    {
      "cell_type": "code",
      "source": [
        "import fnmatch\n",
        "count = len(fnmatch.filter(os.listdir(test_bad_dst_path), '*.*'))\n",
        "print('File Count:', count)"
      ],
      "metadata": {
        "id": "UWLTtpizopru",
        "colab": {
          "base_uri": "https://localhost:8080/"
        },
        "outputId": "6dc29aa5-5494-4451-b511-6b0bd3dac358"
      },
      "execution_count": null,
      "outputs": [
        {
          "output_type": "stream",
          "name": "stdout",
          "text": [
            "File Count: 165\n"
          ]
        }
      ]
    },
    {
      "cell_type": "code",
      "source": [],
      "metadata": {
        "id": "5sM7gw0Hoyjg"
      },
      "execution_count": null,
      "outputs": []
    }
  ]
}